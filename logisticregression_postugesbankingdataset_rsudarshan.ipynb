{
  "nbformat": 4,
  "nbformat_minor": 0,
  "metadata": {
    "colab": {
      "provenance": [],
      "authorship_tag": "ABX9TyPwJEb5VLXiSr0jKrAHlD+o",
      "include_colab_link": true
    },
    "kernelspec": {
      "name": "python3",
      "display_name": "Python 3"
    },
    "language_info": {
      "name": "python"
    }
  },
  "cells": [
    {
      "cell_type": "markdown",
      "metadata": {
        "id": "view-in-github",
        "colab_type": "text"
      },
      "source": [
        "<a href=\"https://colab.research.google.com/github/rsshan5388/assignmentchirag/blob/main/logisticregression_postugesbankingdataset_rsudarshan.ipynb\" target=\"_parent\"><img src=\"https://colab.research.google.com/assets/colab-badge.svg\" alt=\"Open In Colab\"/></a>"
      ]
    },
    {
      "cell_type": "code",
      "execution_count": 1,
      "metadata": {
        "id": "l_cYnsSz9KT8"
      },
      "outputs": [],
      "source": [
        "from sklearn.model_selection import train_test_split\n",
        "from sklearn.preprocessing import LabelEncoder, StandardScaler\n",
        "from sklearn.linear_model import LogisticRegression\n",
        "from sklearn.metrics import (\n",
        "    accuracy_score, precision_score, recall_score, f1_score, roc_auc_score,\n",
        "    classification_report, roc_curve\n",
        ")\n",
        "import matplotlib.pyplot as plt\n",
        "import seaborn as sns\n",
        "import numpy as np\n",
        "import pandas as pd"
      ]
    },
    {
      "cell_type": "code",
      "source": [
        "from google.colab import drive\n",
        "drive.mount('/content/drive')"
      ],
      "metadata": {
        "colab": {
          "base_uri": "https://localhost:8080/"
        },
        "id": "26od-WaE9XJY",
        "outputId": "ec58a046-a314-4ebd-b056-21d6538476e7"
      },
      "execution_count": 3,
      "outputs": [
        {
          "output_type": "stream",
          "name": "stdout",
          "text": [
            "Mounted at /content/drive\n"
          ]
        }
      ]
    },
    {
      "cell_type": "code",
      "source": [
        "df = pd.read_csv('/content/drive/My Drive/logisticregressiondataset/new_test.csv')"
      ],
      "metadata": {
        "id": "SRHhCA6b9a5H"
      },
      "execution_count": 4,
      "outputs": []
    },
    {
      "cell_type": "code",
      "source": [
        "np.random.seed(42)  # For reproducibility\n",
        "df['termdeposit'] = np.random.choice([0, 1], size=len(df), p=[0.7, 0.3])  # 70% No, 30% Yes\n",
        "\n",
        "# Confirm new target distribution\n",
        "df['termdeposit'].value_counts(normalize=True)"
      ],
      "metadata": {
        "colab": {
          "base_uri": "https://localhost:8080/",
          "height": 178
        },
        "id": "2ay7aS_GGLFP",
        "outputId": "db3c1c6c-47cd-495b-c487-7390ea097271"
      },
      "execution_count": 5,
      "outputs": [
        {
          "output_type": "execute_result",
          "data": {
            "text/plain": [
              "termdeposit\n",
              "0    0.709881\n",
              "1    0.290119\n",
              "Name: proportion, dtype: float64"
            ],
            "text/html": [
              "<div>\n",
              "<style scoped>\n",
              "    .dataframe tbody tr th:only-of-type {\n",
              "        vertical-align: middle;\n",
              "    }\n",
              "\n",
              "    .dataframe tbody tr th {\n",
              "        vertical-align: top;\n",
              "    }\n",
              "\n",
              "    .dataframe thead th {\n",
              "        text-align: right;\n",
              "    }\n",
              "</style>\n",
              "<table border=\"1\" class=\"dataframe\">\n",
              "  <thead>\n",
              "    <tr style=\"text-align: right;\">\n",
              "      <th></th>\n",
              "      <th>proportion</th>\n",
              "    </tr>\n",
              "    <tr>\n",
              "      <th>termdeposit</th>\n",
              "      <th></th>\n",
              "    </tr>\n",
              "  </thead>\n",
              "  <tbody>\n",
              "    <tr>\n",
              "      <th>0</th>\n",
              "      <td>0.709881</td>\n",
              "    </tr>\n",
              "    <tr>\n",
              "      <th>1</th>\n",
              "      <td>0.290119</td>\n",
              "    </tr>\n",
              "  </tbody>\n",
              "</table>\n",
              "</div><br><label><b>dtype:</b> float64</label>"
            ]
          },
          "metadata": {},
          "execution_count": 5
        }
      ]
    },
    {
      "cell_type": "code",
      "source": [
        "X_new = df.drop('termdeposit', axis=1)\n",
        "y_new = df['termdeposit']\n",
        "scaler=StandardScaler()\n",
        "# Standardize the features\n",
        "X_new_scaled = scaler.fit_transform(X_new)\n",
        "\n",
        "# Train-test split\n",
        "Xn_train, Xn_test, yn_train, yn_test = train_test_split(X_new_scaled, y_new, test_size=0.2, random_state=42)\n",
        "\n",
        "# Initialize and train the logistic regression model\n",
        "log_reg_new = LogisticRegression(max_iter=1000, solver='lbfgs')\n",
        "log_reg_new.fit(Xn_train, yn_train)\n",
        "\n",
        "# Make predictions\n",
        "yn_pred = log_reg_new.predict(Xn_test)\n",
        "yn_proba = log_reg_new.predict_proba(Xn_test)[:, 1]\n",
        "\n",
        "# Evaluate the model\n",
        "acc = accuracy_score(yn_test, yn_pred)\n",
        "prec = precision_score(yn_test, yn_pred)\n",
        "rec = recall_score(yn_test, yn_pred)\n",
        "f1 = f1_score(yn_test, yn_pred)\n",
        "roc_auc = roc_auc_score(yn_test, yn_proba)\n",
        "class_report = classification_report(yn_test, yn_pred)\n",
        "\n",
        "# Visualize feature importance\n",
        "importance = pd.Series(log_reg_new.coef_[0], index=X_new.columns).sort_values(key=abs, ascending=False)\n",
        "\n",
        "plt.figure(figsize=(10, 6))\n",
        "sns.barplot(x=importance.values, y=importance.index)\n",
        "plt.title('Feature Importance (Logistic Regression Coefficients)')\n",
        "plt.xlabel('Coefficient Value')\n",
        "plt.tight_layout()\n",
        "plt.show()\n",
        "\n",
        "class_report, acc, prec, rec, f1, roc_auc"
      ],
      "metadata": {
        "colab": {
          "base_uri": "https://localhost:8080/",
          "height": 887
        },
        "id": "sRtixUdBGa4m",
        "outputId": "f8598bae-9936-4c11-aaf5-854b0770205c"
      },
      "execution_count": 8,
      "outputs": [
        {
          "output_type": "stream",
          "name": "stderr",
          "text": [
            "/usr/local/lib/python3.11/dist-packages/sklearn/metrics/_classification.py:1565: UndefinedMetricWarning: Precision is ill-defined and being set to 0.0 due to no predicted samples. Use `zero_division` parameter to control this behavior.\n",
            "  _warn_prf(average, modifier, f\"{metric.capitalize()} is\", len(result))\n",
            "/usr/local/lib/python3.11/dist-packages/sklearn/metrics/_classification.py:1565: UndefinedMetricWarning: Precision is ill-defined and being set to 0.0 in labels with no predicted samples. Use `zero_division` parameter to control this behavior.\n",
            "  _warn_prf(average, modifier, f\"{metric.capitalize()} is\", len(result))\n",
            "/usr/local/lib/python3.11/dist-packages/sklearn/metrics/_classification.py:1565: UndefinedMetricWarning: Precision is ill-defined and being set to 0.0 in labels with no predicted samples. Use `zero_division` parameter to control this behavior.\n",
            "  _warn_prf(average, modifier, f\"{metric.capitalize()} is\", len(result))\n",
            "/usr/local/lib/python3.11/dist-packages/sklearn/metrics/_classification.py:1565: UndefinedMetricWarning: Precision is ill-defined and being set to 0.0 in labels with no predicted samples. Use `zero_division` parameter to control this behavior.\n",
            "  _warn_prf(average, modifier, f\"{metric.capitalize()} is\", len(result))\n"
          ]
        },
        {
          "output_type": "display_data",
          "data": {
            "text/plain": [
              "<Figure size 1000x600 with 1 Axes>"
            ],
            "image/png": "[encoded data removed]"
          },
          "metadata": {}
        },
        {
          "output_type": "execute_result",
          "data": {
            "text/plain": [
              "('              precision    recall  f1-score   support\\n\\n           0       0.72      1.00      0.84      1191\\n           1       0.00      0.00      0.00       457\\n\\n    accuracy                           0.72      1648\\n   macro avg       0.36      0.50      0.42      1648\\nweighted avg       0.52      0.72      0.61      1648\\n',\n",
              " 0.7226941747572816,\n",
              " 0.0,\n",
              " 0.0,\n",
              " 0.0,\n",
              " np.float64(0.45728632137089437))"
            ]
          },
          "metadata": {},
          "execution_count": 8
        }
      ]
    },
    {
      "cell_type": "markdown",
      "source": [
        "# Logistic Regression Results on Synthetic termdeposit Target:\n",
        "Accuracy: 72.27%\n",
        "\n",
        "Precision (for 'Yes'): 0.00\n",
        "\n",
        "Recall (for 'Yes'): 0.00\n",
        "\n",
        "F1-score (for 'Yes'): 0.00\n",
        "\n",
        "ROC-AUC: 0.4572"
      ],
      "metadata": {
        "id": "psEC7Na8G6g8"
      }
    }
  ]
}