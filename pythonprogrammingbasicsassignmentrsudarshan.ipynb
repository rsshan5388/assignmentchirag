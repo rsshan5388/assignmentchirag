{
  "nbformat": 4,
  "nbformat_minor": 0,
  "metadata": {
    "colab": {
      "provenance": [],
      "authorship_tag": "ABX9TyOHWsKg7yDBDf9vbvma8htA",
      "include_colab_link": true
    },
    "kernelspec": {
      "name": "python3",
      "display_name": "Python 3"
    },
    "language_info": {
      "name": "python"
    }
  },
  "cells": [
    {
      "cell_type": "markdown",
      "metadata": {
        "id": "view-in-github",
        "colab_type": "text"
      },
      "source": [
        "<a href=\"https://colab.research.google.com/github/rsshan5388/assignmentchirag/blob/main/pythonprogrammingbasicsassignmentrsudarshan.ipynb\" target=\"_parent\"><img src=\"https://colab.research.google.com/assets/colab-badge.svg\" alt=\"Open In Colab\"/></a>"
      ]
    },
    {
      "cell_type": "code",
      "execution_count": null,
      "metadata": {
        "id": "T3akye-vKkeA",
        "colab": {
          "base_uri": "https://localhost:8080/"
        },
        "outputId": "a23035e7-4cfd-450e-b82b-57ff63027e4a"
      },
      "outputs": [
        {
          "output_type": "stream",
          "name": "stdout",
          "text": [
            "x: 5 Type: <class 'int'>\n",
            "y: 10.5 Type: <class 'float'>\n",
            "z: Hello, Python! Type: <class 'str'>\n",
            "is_python_fun: True Type: <class 'bool'>\n"
          ]
        }
      ],
      "source": [
        " \"\"\"\n",
        " Question 1\n",
        " Use print() and input() functions.\n",
        " Assign values to variables and explore different data types.\n",
        "\"\"\"\n",
        "x = 5\n",
        "y = 10.5\n",
        "z = \"Hello, Python!\"\n",
        "is_python_fun = True\n",
        "#Printing the values and their types\n",
        "print(\"x:\", x, \"Type:\", type(x))\n",
        "print(\"y:\", y, \"Type:\", type(y))\n",
        "print(\"z:\", z, \"Type:\", type(z))\n",
        "print(\"is_python_fun:\", is_python_fun, \"Type:\", type(is_python_fun))"
      ]
    },
    {
      "cell_type": "code",
      "source": [
        "\"\"\"\n",
        "Question 2\n",
        "Create a list and perform basic operations like append(), remove(), pop(), and slicing.\n",
        "Iterate over a list using loops.\n",
        "\"\"\"\n",
        "# Creating a list\n",
        "my_list = [10, 20, 30, 40, 50]\n",
        "print(\"Original List:\", my_list)\n",
        "\n",
        "# Append an element to the list\n",
        "my_list.append(60)\n",
        "print(\"After append:\", my_list)\n",
        "\n",
        "# Remove an element from the list\n",
        "my_list.remove(30)  # Removes the first occurrence of 30\n",
        "print(\"After remove:\", my_list)\n",
        "\n",
        "# Pop an element (removes and returns the last element by default)\n",
        "popped_element = my_list.pop()\n",
        "print(\"Popped Element:\", popped_element)\n",
        "print(\"After pop:\", my_list)\n",
        "\n",
        "# Slicing a list (Extracting sublists)\n",
        "sliced_list = my_list[1:4]  # Extracts elements from index 1 to 3 (4 is excluded)\n",
        "print(\"Sliced List:\", sliced_list)\n",
        "\n",
        "# Iterating over a list using a for loop\n",
        "print(\"Iterating using for loop:\")\n",
        "for item in my_list:\n",
        "    print(item)\n",
        "\n",
        "# Iterating using a while loop\n",
        "print(\"Iterating using while loop:\")\n",
        "i = 0\n",
        "while i < len(my_list):\n",
        "    print(my_list[i])\n",
        "    i += 1\n"
      ],
      "metadata": {
        "colab": {
          "base_uri": "https://localhost:8080/"
        },
        "id": "qfcCR01c_-yx",
        "outputId": "1606b636-acfe-4b4b-81c7-599181014f1f"
      },
      "execution_count": null,
      "outputs": [
        {
          "output_type": "stream",
          "name": "stdout",
          "text": [
            "Original List: [10, 20, 30, 40, 50]\n",
            "After append: [10, 20, 30, 40, 50, 60]\n",
            "After remove: [10, 20, 40, 50, 60]\n",
            "Popped Element: 60\n",
            "After pop: [10, 20, 40, 50]\n",
            "Sliced List: [20, 40, 50]\n",
            "Iterating using for loop:\n",
            "10\n",
            "20\n",
            "40\n",
            "50\n",
            "Iterating using while loop:\n",
            "10\n",
            "20\n",
            "40\n",
            "50\n"
          ]
        }
      ]
    },
    {
      "cell_type": "code",
      "source": [
        "\"\"\"\n",
        "Question 3. Tuple Operations:\n",
        " Create and access tuple elements.\n",
        " Understand the immutability of tuples.\n",
        " Use tuple unpacking.\n",
        "\"\"\"\n",
        "# Creating a tuple\n",
        "my_tuple = (10, 20, 30, 40, 50)\n",
        "print(\"Original Tuple:\", my_tuple)\n",
        "\n",
        "# Accessing tuple elements\n",
        "print(\"First Element:\", my_tuple[0])\n",
        "print(\"Last Element:\", my_tuple[-1])\n",
        "\n",
        "# Attempting to modify a tuple (Demonstrating immutability)\n",
        "try:\n",
        "    my_tuple[1] = 100  # This will raise an error\n",
        "except TypeError as e:\n",
        "    print(\"Error:\", e)\n",
        "\n",
        "# Tuple unpacking\n",
        "a, b, c, d, e = my_tuple\n",
        "print(\"Unpacked Values:\", a, b, c, d, e)\n",
        "\n",
        "# Swapping values using tuple unpacking\n",
        "x, y = 5, 10\n",
        "x, y = y, x  # Swaps the values\n",
        "print(\"Swapped Values:\", x, y)\n",
        "\n",
        "\n"
      ],
      "metadata": {
        "colab": {
          "base_uri": "https://localhost:8080/"
        },
        "id": "rLkZXmpk_v7M",
        "outputId": "f5090e99-631b-4045-f1ba-31c2078d19f4"
      },
      "execution_count": null,
      "outputs": [
        {
          "output_type": "stream",
          "name": "stdout",
          "text": [
            "Original Tuple: (10, 20, 30, 40, 50)\n",
            "First Element: 10\n",
            "Last Element: 50\n",
            "Error: 'tuple' object does not support item assignment\n",
            "Unpacked Values: 10 20 30 40 50\n",
            "Swapped Values: 10 5\n"
          ]
        }
      ]
    },
    {
      "cell_type": "code",
      "source": [
        "\"\"\"\n",
        "4. Dictionary Operations:\n",
        " Create a dictionary with key-value pairs.\n",
        " Perform operations like adding, updating, and deleting key-value pairs.\n",
        " Iterate through a dictionary using loops\n",
        "\"\"\"\n",
        "# Creating a dictionary\n",
        "my_dict = {\n",
        "    \"name\": \"Alice\",\n",
        "    \"age\": 25,\n",
        "    \"city\": \"New York\"\n",
        "}\n",
        "print(\"Original Dictionary:\", my_dict)\n",
        "\n",
        "# Adding a new key-value pair\n",
        "my_dict[\"profession\"] = \"Engineer\"\n",
        "print(\"After Adding:\", my_dict)\n",
        "\n",
        "# Updating an existing key\n",
        "my_dict[\"age\"] = 26\n",
        "print(\"After Updating Age:\", my_dict)\n",
        "\n",
        "# Deleting a key-value pair\n",
        "del my_dict[\"city\"]\n",
        "print(\"After Deleting 'city':\", my_dict)\n",
        "\n",
        "# Using pop() to remove and return a value\n",
        "removed_value = my_dict.pop(\"profession\")\n",
        "print(\"Removed Profession:\", removed_value)\n",
        "print(\"After pop operation:\", my_dict)\n",
        "\n",
        "# Iterating through a dictionary\n",
        "print(\"Iterating through keys and values:\")\n",
        "for key, value in my_dict.items():\n",
        "    print(f\"{key}: {value}\")\n"
      ],
      "metadata": {
        "colab": {
          "base_uri": "https://localhost:8080/"
        },
        "id": "kbfPs-YVHEdG",
        "outputId": "dc725647-78c7-4513-f8fb-b4e4b7572ada"
      },
      "execution_count": null,
      "outputs": [
        {
          "output_type": "stream",
          "name": "stdout",
          "text": [
            "Original Dictionary: {'name': 'Alice', 'age': 25, 'city': 'New York'}\n",
            "After Adding: {'name': 'Alice', 'age': 25, 'city': 'New York', 'profession': 'Engineer'}\n",
            "After Updating Age: {'name': 'Alice', 'age': 26, 'city': 'New York', 'profession': 'Engineer'}\n",
            "After Deleting 'city': {'name': 'Alice', 'age': 26, 'profession': 'Engineer'}\n",
            "Removed Profession: Engineer\n",
            "After pop operation: {'name': 'Alice', 'age': 26}\n",
            "Iterating through keys and values:\n",
            "name: Alice\n",
            "age: 26\n"
          ]
        }
      ]
    },
    {
      "cell_type": "code",
      "source": [
        "\"\"\"\n",
        "5. Set Operations:\n",
        "Create a set and perform operations like union, intersection, and difference.\n",
        "Understand the uniqueness property of sets.\n",
        "\"\"\"\n",
        "# Creating a set (sets store only unique elements)\n",
        "my_set = {1, 2, 3, 4, 5, 5, 3}  # Duplicate values are automatically removed\n",
        "print(\"Original Set:\", my_set)  # Output: {1, 2, 3, 4, 5}\n",
        "\n",
        "# Another set for performing operations\n",
        "another_set = {4, 5, 6, 7, 8}\n",
        "\n",
        "# Union of sets (combines elements from both sets, removing duplicates)\n",
        "union_set = my_set.union(another_set)\n",
        "print(\"Union:\", union_set)  # Output: {1, 2, 3, 4, 5, 6, 7, 8}\n",
        "\n",
        "# Intersection of sets (common elements in both sets)\n",
        "intersection_set = my_set.intersection(another_set)\n",
        "print(\"Intersection:\", intersection_set)  # Output: {4, 5}\n",
        "\n",
        "# Difference of sets (elements in my_set but not in another_set)\n",
        "difference_set = my_set.difference(another_set)\n",
        "print(\"Difference:\", difference_set)  # Output: {1, 2, 3}\n",
        "\n",
        "# Adding an element to a set\n",
        "my_set.add(10)\n",
        "print(\"After Adding 10:\", my_set)\n",
        "\n",
        "# Removing an element\n",
        "my_set.remove(2)  # Throws an error if element is not found\n",
        "print(\"After Removing 2:\", my_set)\n",
        "\n",
        "# Using discard (removes element if it exists, but does not throw an error)\n",
        "my_set.discard(20)  # No error if 20 is not found\n",
        "print(\"After Discarding 20 (non-existent element):\", my_set)\n",
        "\n"
      ],
      "metadata": {
        "colab": {
          "base_uri": "https://localhost:8080/"
        },
        "id": "HLAuDYdjIiWy",
        "outputId": "d93cb952-b437-42a6-9691-b8cabd6e08a5"
      },
      "execution_count": null,
      "outputs": [
        {
          "output_type": "stream",
          "name": "stdout",
          "text": [
            "Original Set: {1, 2, 3, 4, 5}\n",
            "Union: {1, 2, 3, 4, 5, 6, 7, 8}\n",
            "Intersection: {4, 5}\n",
            "Difference: {1, 2, 3}\n",
            "After Adding 10: {1, 2, 3, 4, 5, 10}\n",
            "After Removing 2: {1, 3, 4, 5, 10}\n",
            "After Discarding 20 (non-existent element): {1, 3, 4, 5, 10}\n"
          ]
        }
      ]
    },
    {
      "cell_type": "code",
      "source": [
        "\"\"\"\n",
        "6. Conditional Statements:\n",
        "Implement if-else conditions for decision-making.\n",
        "Use nested if-else conditions for complex logic.\n",
        " \"\"\"\n",
        " # Check if a number is positive, negative, or zero\n",
        "num = int(input(\"Enter a number: \"))\n",
        "\n",
        "if num > 0:\n",
        "    print(\"The number is positive.\")\n",
        "elif num < 0:\n",
        "    print(\"The number is negative.\")\n",
        "else:\n",
        "    print(\"The number is zero.\")\n",
        "\n",
        "\n",
        "\n"
      ],
      "metadata": {
        "id": "z7WqIUwQKTFV",
        "colab": {
          "base_uri": "https://localhost:8080/"
        },
        "outputId": "7d80d14d-6fe8-47db-a99e-0ff9bda70033"
      },
      "execution_count": null,
      "outputs": [
        {
          "output_type": "stream",
          "name": "stdout",
          "text": [
            "Enter a number: 24\n",
            "The number is positive.\n"
          ]
        }
      ]
    },
    {
      "cell_type": "code",
      "source": [
        "# Checking eligibility for voting\n",
        "#nested if\n",
        "age = int(input(\"Enter your age: \"))\n",
        "\n",
        "if age >= 18:\n",
        "    print(\"You are eligible to vote.\")\n",
        "\n",
        "    if age >= 60:\n",
        "        print(\"You are a senior citizen voter.\")\n",
        "    else:\n",
        "        print(\"You are an adult voter.\")\n",
        "else:\n",
        "    print(\"You are not eligible to vote.\")\n"
      ],
      "metadata": {
        "colab": {
          "base_uri": "https://localhost:8080/"
        },
        "id": "Ju16JPKGR548",
        "outputId": "35401c6a-32e2-44f3-a109-0e34cb72223c"
      },
      "execution_count": null,
      "outputs": [
        {
          "output_type": "stream",
          "name": "stdout",
          "text": [
            "Enter your age: 57\n",
            "You are eligible to vote.\n",
            "You are an adult voter.\n"
          ]
        }
      ]
    },
    {
      "cell_type": "code",
      "source": [
        "# Check if a year is a leap year\n",
        "#Multiple if\n",
        "year = int(input(\"Enter a year: \"))\n",
        "\n",
        "if (year % 4 == 0 and year % 100 != 0) or (year % 400 == 0):\n",
        "    print(year, \"is a leap year.\")\n",
        "else:\n",
        "    print(year, \"is not a leap year.\")"
      ],
      "metadata": {
        "colab": {
          "base_uri": "https://localhost:8080/"
        },
        "id": "MG_aslxySIzd",
        "outputId": "2975288a-3d4f-498f-a2aa-0dcb540c8ce3"
      },
      "execution_count": null,
      "outputs": [
        {
          "output_type": "stream",
          "name": "stdout",
          "text": [
            "Enter a year: 1998\n",
            "1998 is not a leap year.\n"
          ]
        }
      ]
    },
    {
      "cell_type": "code",
      "source": [
        "\"\"\"7. Looping Constructs:\n",
        " Use for loops to iterate over lists, tuples, and dictionaries.\n",
        " Use while loops for repeating tasks.\n",
        " Implement break and continue statements to control loops.\n",
        "\"\"\"\n",
        "# Iterating over a list\n",
        "my_list = [10, 20, 30, 40, 50]\n",
        "print(\"Iterating over a list:\")\n",
        "for num in my_list:\n",
        "    print(num)\n",
        "\n",
        "# Iterating over a tuple\n",
        "my_tuple = (\"apple\", \"banana\", \"cherry\")\n",
        "print(\"\\nIterating over a tuple:\")\n",
        "for fruit in my_tuple:\n",
        "    print(fruit)\n",
        "\n",
        "# Iterating over a dictionary\n",
        "my_dict = {\"name\": \"Alice\", \"age\": 25, \"city\": \"New York\"}\n",
        "print(\"\\nIterating over a dictionary (keys and values):\")\n",
        "for key, value in my_dict.items():\n",
        "    print(f\"{key}: {value}\")\n"
      ],
      "metadata": {
        "colab": {
          "base_uri": "https://localhost:8080/"
        },
        "id": "4WGuoJAxY495",
        "outputId": "64a9792c-303f-4516-e2d1-c9fcb801794f"
      },
      "execution_count": null,
      "outputs": [
        {
          "output_type": "stream",
          "name": "stdout",
          "text": [
            "Iterating over a list:\n",
            "10\n",
            "20\n",
            "30\n",
            "40\n",
            "50\n",
            "\n",
            "Iterating over a tuple:\n",
            "apple\n",
            "banana\n",
            "cherry\n",
            "\n",
            "Iterating over a dictionary (keys and values):\n",
            "name: Alice\n",
            "age: 25\n",
            "city: New York\n"
          ]
        }
      ]
    },
    {
      "cell_type": "code",
      "source": [
        "# Using while loop to print numbers from 1 to 5\n",
        "print(\"\\nUsing while loop:\")\n",
        "i = 1\n",
        "while i <= 5:\n",
        "    print(i)\n",
        "    i += 1"
      ],
      "metadata": {
        "colab": {
          "base_uri": "https://localhost:8080/"
        },
        "id": "G36G78GxZxpl",
        "outputId": "073f95aa-e2aa-435f-91db-036770908a8f"
      },
      "execution_count": null,
      "outputs": [
        {
          "output_type": "stream",
          "name": "stdout",
          "text": [
            "\n",
            "Using while loop:\n",
            "1\n",
            "2\n",
            "3\n",
            "4\n",
            "5\n"
          ]
        }
      ]
    },
    {
      "cell_type": "code",
      "source": [
        "# Using break to stop the loop when number 30 is found\n",
        "print(\"\\nUsing break statement:\")\n",
        "for num in my_list:\n",
        "    if num == 30:\n",
        "        print(\"Found 30, stopping loop.\")\n",
        "        break\n",
        "    print(num)\n",
        "\n",
        "# Using continue to skip number 30 and continue the loop\n",
        "print(\"\\nUsing continue statement:\")\n",
        "for num in my_list:\n",
        "    if num == 30:\n",
        "        print(\"Skipping 30.\")\n",
        "        continue\n",
        "    print(num)\n"
      ],
      "metadata": {
        "colab": {
          "base_uri": "https://localhost:8080/"
        },
        "id": "RfPcbjUIaCGH",
        "outputId": "00cd6efa-1281-4175-aeb8-1190c3720e97"
      },
      "execution_count": null,
      "outputs": [
        {
          "output_type": "stream",
          "name": "stdout",
          "text": [
            "\n",
            "Using break statement:\n",
            "10\n",
            "20\n",
            "Found 30, stopping loop.\n",
            "\n",
            "Using continue statement:\n",
            "10\n",
            "20\n",
            "Skipping 30.\n",
            "40\n",
            "50\n"
          ]
        }
      ]
    },
    {
      "cell_type": "code",
      "source": [
        "\"\"\"\n",
        "8. Problem-Solving Tasks:\n",
        " Write a Python program to find the largest number in a list.\n",
        " Write a Python program to count the frequency of elements in a list.\n",
        " Create a dictionary that stores student names as keys and marks as values, then find\n",
        "the student with the highest marks.\n",
        " Implement a while loop to print the Fibonacci series up to a given number.\n",
        " Use a set to remove duplicate elements from a list.\n",
        "\"\"\"\n",
        "def find_largest(lst):\n",
        "    return max(lst)  # Using max() to find the largest number\n",
        "\n",
        "numbers = [10, 25, 36, 78, 55, 89, 102, 7]\n",
        "print(\"Largest number:\", find_largest(numbers))\n",
        "\n"
      ],
      "metadata": {
        "colab": {
          "base_uri": "https://localhost:8080/"
        },
        "id": "b_WJZvXJaqKi",
        "outputId": "e7001bfd-6614-443b-fbfe-cec33aaaa940"
      },
      "execution_count": null,
      "outputs": [
        {
          "output_type": "stream",
          "name": "stdout",
          "text": [
            "Largest number: 102\n"
          ]
        }
      ]
    },
    {
      "cell_type": "code",
      "source": [
        "from collections import Counter\n",
        "def count_frequency(lst):\n",
        "    return dict(Counter(lst))  # Converts Counter object to dictionary"
      ],
      "metadata": {
        "id": "E_niWKqMcKVE"
      },
      "execution_count": null,
      "outputs": []
    },
    {
      "cell_type": "code",
      "source": [
        "students = {\n",
        "    \"Alice\": 85,\n",
        "    \"Bob\": 92,\n",
        "    \"Charlie\": 78,\n",
        "    \"David\": 95,\n",
        "    \"Eve\": 88\n",
        "}\n",
        "\n",
        "# Finding the student with the highest marks\n",
        "top_student = max(students, key=students.get)\n",
        "print(f\"Top student: {top_student} with marks {students[top_student]}\")\n"
      ],
      "metadata": {
        "colab": {
          "base_uri": "https://localhost:8080/"
        },
        "id": "qcn1zepYcTAt",
        "outputId": "59975965-d4c7-4d4d-bd2f-92efe5876b44"
      },
      "execution_count": null,
      "outputs": [
        {
          "output_type": "stream",
          "name": "stdout",
          "text": [
            "Top student: David with marks 95\n"
          ]
        }
      ]
    },
    {
      "cell_type": "code",
      "source": [
        "def fibonacci_series(limit):\n",
        "    a, b = 0, 1\n",
        "    while a <= limit:\n",
        "        print(a, end=\" \")\n",
        "        a, b = b, a + b  # Updating values for next Fibonacci number\n",
        "\n",
        "num = int(input(\"Enter a number for Fibonacci series: \"))\n",
        "print(\"Fibonacci Series:\")\n",
        "fibonacci_series(num)\n"
      ],
      "metadata": {
        "colab": {
          "base_uri": "https://localhost:8080/"
        },
        "id": "0gDYafRHchFn",
        "outputId": "1c9c70a0-a150-4024-8fe9-7be4bb695c4b"
      },
      "execution_count": null,
      "outputs": [
        {
          "output_type": "stream",
          "name": "stdout",
          "text": [
            "Enter a number for Fibonacci series: 10\n",
            "Fibonacci Series:\n",
            "0 1 1 2 3 5 8 "
          ]
        }
      ]
    },
    {
      "cell_type": "code",
      "source": [
        "def remove_duplicates(lst):\n",
        "    return list(set(lst))  # Convert list to set and back to list\n",
        "\n",
        "numbers = [1, 2, 3, 2, 4, 5, 1, 2, 3, 6, 4, 4, 5]\n",
        "print(\"List without duplicates:\", remove_duplicates(numbers))\n"
      ],
      "metadata": {
        "colab": {
          "base_uri": "https://localhost:8080/"
        },
        "id": "bw3p_EaDdVtf",
        "outputId": "f81ebcdd-828b-4caf-9f8b-6a793cd159fc"
      },
      "execution_count": null,
      "outputs": [
        {
          "output_type": "stream",
          "name": "stdout",
          "text": [
            "List without duplicates: [1, 2, 3, 4, 5, 6]\n"
          ]
        }
      ]
    },
    {
      "cell_type": "markdown",
      "source": [],
      "metadata": {
        "id": "zwJFqlBYcNeb"
      }
    }
  ]
}