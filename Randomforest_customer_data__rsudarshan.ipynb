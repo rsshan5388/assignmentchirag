{
  "nbformat": 4,
  "nbformat_minor": 0,
  "metadata": {
    "colab": {
      "provenance": [],
      "authorship_tag": "ABX9TyOQlROXoWzBRYT+5uc5Ylm+",
      "include_colab_link": true
    },
    "kernelspec": {
      "name": "python3",
      "display_name": "Python 3"
    },
    "language_info": {
      "name": "python"
    }
  },
  "cells": [
    {
      "cell_type": "markdown",
      "metadata": {
        "id": "view-in-github",
        "colab_type": "text"
      },
      "source": [
        "<a href=\"https://colab.research.google.com/github/rsshan5388/assignmentchirag/blob/main/Randomforest_customer_data__rsudarshan.ipynb\" target=\"_parent\"><img src=\"https://colab.research.google.com/assets/colab-badge.svg\" alt=\"Open In Colab\"/></a>"
      ]
    },
    {
      "cell_type": "code",
      "execution_count": 1,
      "metadata": {
        "colab": {
          "base_uri": "https://localhost:8080/"
        },
        "id": "A8EDo2RuZkue",
        "outputId": "c34b9d50-ade0-449e-fee1-de72276b933f"
      },
      "outputs": [
        {
          "output_type": "stream",
          "name": "stdout",
          "text": [
            "Mounted at /content/drive\n"
          ]
        }
      ],
      "source": [
        "from google.colab import drive\n",
        "drive.mount('/content/drive')"
      ]
    },
    {
      "cell_type": "code",
      "source": [
        "import pandas as pd\n",
        "\n",
        "# Load the uploaded dataset\n",
        "df  = pd.read_csv('/content/drive/My Drive/randomforest/customer_data.csv')\n",
        "\n",
        "\n",
        "# Display basic information and the first few rows of the dataset\n",
        "df.info(), df.head()"
      ],
      "metadata": {
        "colab": {
          "base_uri": "https://localhost:8080/"
        },
        "id": "_q_EE1HdaOwb",
        "outputId": "1ec0943d-7850-4448-ff07-97bef0461002"
      },
      "execution_count": 2,
      "outputs": [
        {
          "output_type": "stream",
          "name": "stdout",
          "text": [
            "<class 'pandas.core.frame.DataFrame'>\n",
            "RangeIndex: 1125 entries, 0 to 1124\n",
            "Data columns (total 13 columns):\n",
            " #   Column  Non-Null Count  Dtype  \n",
            "---  ------  --------------  -----  \n",
            " 0   label   1125 non-null   int64  \n",
            " 1   id      1125 non-null   int64  \n",
            " 2   fea_1   1125 non-null   int64  \n",
            " 3   fea_2   976 non-null    float64\n",
            " 4   fea_3   1125 non-null   int64  \n",
            " 5   fea_4   1125 non-null   float64\n",
            " 6   fea_5   1125 non-null   int64  \n",
            " 7   fea_6   1125 non-null   int64  \n",
            " 8   fea_7   1125 non-null   int64  \n",
            " 9   fea_8   1125 non-null   int64  \n",
            " 10  fea_9   1125 non-null   int64  \n",
            " 11  fea_10  1125 non-null   int64  \n",
            " 12  fea_11  1125 non-null   float64\n",
            "dtypes: float64(3), int64(10)\n",
            "memory usage: 114.4 KB\n"
          ]
        },
        {
          "output_type": "execute_result",
          "data": {
            "text/plain": [
              "(None,\n",
              "    label        id  fea_1   fea_2  fea_3     fea_4  fea_5  fea_6  fea_7  \\\n",
              " 0      1  54982665      5  1245.5      3   77000.0      2     15      5   \n",
              " 1      0  59004779      4  1277.0      1  113000.0      2      8     -1   \n",
              " 2      0  58990862      7  1298.0      1  110000.0      2     11     -1   \n",
              " 3      1  58995168      7  1335.5      1  151000.0      2     11      5   \n",
              " 4      0  54987320      7     NaN      2   59000.0      2     11      5   \n",
              " \n",
              "    fea_8  fea_9  fea_10      fea_11  \n",
              " 0    109      5  151300  244.948974  \n",
              " 1    100      3  341759  207.173840  \n",
              " 2    101      5   72001    1.000000  \n",
              " 3    110      3   60084    1.000000  \n",
              " 4    108      4  450081  197.403141  )"
            ]
          },
          "metadata": {},
          "execution_count": 2
        }
      ]
    },
    {
      "cell_type": "markdown",
      "source": [
        "**Dataset Loaded: **\n",
        "Customer Data Analysis\n",
        "Total Records: 1,125\n",
        "\n",
        "Target Variable: label (likely binary: 0/1)\n",
        "\n",
        "Features: fea_1 to fea_11\n",
        "\n",
        "Missing Data: fea_2 has 149 missing values"
      ],
      "metadata": {
        "id": "jGgDR7zUaUlB"
      }
    },
    {
      "cell_type": "code",
      "source": [
        "# Step 1: Data Preprocessing\n",
        "from sklearn.model_selection import train_test_split\n",
        "from sklearn.ensemble import RandomForestClassifier\n",
        "from sklearn.metrics import confusion_matrix, classification_report\n",
        "from sklearn.impute import SimpleImputer\n",
        "import matplotlib.pyplot as plt\n",
        "import seaborn as sns\n",
        "import pandas as pd\n",
        "\n",
        "# Drop 'id' column\n",
        "if 'id' in df.columns:\n",
        "    df.drop(columns='id', inplace=True)\n",
        "\n",
        "\n",
        "# Fill missing values in 'fea_2' with median\n",
        "imputer = SimpleImputer(strategy='median')\n",
        "df['fea_2'] = imputer.fit_transform(df[['fea_2']])\n",
        "\n",
        "# Split into features and target\n",
        "X = df.drop(columns='label')\n",
        "y = df['label']\n",
        "\n",
        "# Train-test split\n",
        "X_train, X_test, y_train, y_test = train_test_split(\n",
        "    X, y, test_size=0.2, random_state=42, stratify=y\n",
        ")\n",
        "\n",
        "# Step 2: Train Random Forest\n",
        "rf_model = RandomForestClassifier(\n",
        "    n_estimators=200,\n",
        "    max_depth=20,\n",
        "    min_samples_split=5,\n",
        "    min_samples_leaf=2,\n",
        "    criterion='gini',\n",
        "    random_state=42\n",
        ")\n",
        "rf_model.fit(X_train, y_train)\n",
        "\n",
        "# Step 3: Evaluation - Confusion Matrix\n",
        "y_pred = rf_model.predict(X_test)\n",
        "cm = confusion_matrix(y_test, y_pred)\n",
        "\n",
        "plt.figure(figsize=(6, 4))\n",
        "sns.heatmap(cm, annot=True, fmt='d', cmap='Blues', xticklabels=['Class 0', 'Class 1'], yticklabels=['Class 0', 'Class 1'])\n",
        "plt.xlabel('Predicted')\n",
        "plt.ylabel('Actual')\n",
        "plt.title('Confusion Matrix (Random Forest - Customer Data)')\n",
        "plt.tight_layout()\n",
        "plt.show()\n"
      ],
      "metadata": {
        "colab": {
          "base_uri": "https://localhost:8080/",
          "height": 407
        },
        "id": "rWICu6UlavFT",
        "outputId": "96bf0c6b-75ab-4690-d24c-9152d5ffc407"
      },
      "execution_count": 6,
      "outputs": [
        {
          "output_type": "display_data",
          "data": {
            "text/plain": [
              "<Figure size 600x400 with 2 Axes>"
            ],
            "image/png": "[encoded data removed]"
          },
          "metadata": {}
        }
      ]
    },
    {
      "cell_type": "markdown",
      "source": [
        "**Random Forest Model Trained & Evaluated**\n",
        "\n",
        "\n",
        "The confusion matrix gives us insight into how the model performs on the test set:\n",
        "\n",
        "Top-left (True Negatives): Correctly predicted class 0\n",
        "\n",
        "Bottom-right (True Positives): Correctly predicted class 1\n",
        "\n",
        "Top-right (False Positives): Incorrectly predicted class 1\n",
        "\n",
        "Bottom-left (False Negatives): Missed class 1 cases"
      ],
      "metadata": {
        "id": "dotVTZucbYXe"
      }
    },
    {
      "cell_type": "markdown",
      "source": [
        "Precision, Recall, F1-Score analysis\n",
        "\n",
        "\n",
        " Feature Importance\n",
        "\n",
        "\n",
        " Hyperparameter Tuning (Randomized Search for faster optimization)"
      ],
      "metadata": {
        "id": "YQIFu2rZbrK5"
      }
    },
    {
      "cell_type": "code",
      "source": [
        "from sklearn.metrics import classification_report\n",
        "\n",
        "# Generate classification report\n",
        "report = classification_report(y_test, y_pred, output_dict=True)\n",
        "report_df = pd.DataFrame(report).transpose()\n",
        "\n",
        "# Feature importance\n",
        "feature_importance_df = pd.DataFrame({\n",
        "    'Feature': X.columns,\n",
        "    'Importance': rf_model.feature_importances_\n",
        "}).sort_values(by='Importance', ascending=False)\n",
        "\n",
        "# Plot feature importance\n",
        "plt.figure(figsize=(10, 6))\n",
        "sns.barplot(x='Importance', y='Feature', data=feature_importance_df.head(10))\n",
        "plt.title('Top 10 Feature Importances (Random Forest - Customer Data)')\n",
        "plt.tight_layout()\n",
        "plt.show()\n",
        "\n",
        "report_df, feature_importance_df.head(10)\n"
      ],
      "metadata": {
        "colab": {
          "base_uri": "https://localhost:8080/",
          "height": 836
        },
        "id": "g4oPT2Wtbx1-",
        "outputId": "8b0b5742-67e1-4123-8f77-53d2449f2d77"
      },
      "execution_count": 7,
      "outputs": [
        {
          "output_type": "display_data",
          "data": {
            "text/plain": [
              "<Figure size 1000x600 with 1 Axes>"
            ],
            "image/png": "[encoded data removed]"
          },
          "metadata": {}
        },
        {
          "output_type": "execute_result",
          "data": {
            "text/plain": [
              "(              precision    recall  f1-score     support\n",
              " 0              0.804545  0.983333  0.885000  180.000000\n",
              " 1              0.400000  0.044444  0.080000   45.000000\n",
              " accuracy       0.795556  0.795556  0.795556    0.795556\n",
              " macro avg      0.602273  0.513889  0.482500  225.000000\n",
              " weighted avg   0.723636  0.795556  0.724000  225.000000,\n",
              "    Feature  Importance\n",
              " 3    fea_4    0.243647\n",
              " 9   fea_10    0.160227\n",
              " 1    fea_2    0.159723\n",
              " 7    fea_8    0.142343\n",
              " 10  fea_11    0.115855\n",
              " 8    fea_9    0.045424\n",
              " 6    fea_7    0.038020\n",
              " 5    fea_6    0.031584\n",
              " 0    fea_1    0.028715\n",
              " 2    fea_3    0.026569)"
            ]
          },
          "metadata": {},
          "execution_count": 7
        }
      ]
    },
    {
      "cell_type": "markdown",
      "source": [
        "** Hyperparameter Tuning via Randomized Search**"
      ],
      "metadata": {
        "id": "KavozfKBb754"
      }
    },
    {
      "cell_type": "code",
      "source": [
        "from sklearn.model_selection import RandomizedSearchCV\n",
        "from scipy.stats import randint\n",
        "\n",
        "# Define parameter distribution for RandomizedSearchCV\n",
        "param_dist = {\n",
        "    'n_estimators': randint(100, 300),\n",
        "    'max_depth': [10, 20, None],\n",
        "    'min_samples_split': [2, 5, 10],\n",
        "    'min_samples_leaf': [1, 2, 4],\n",
        "    'class_weight': [None, 'balanced']\n",
        "}\n",
        "\n",
        "# Initialize RandomizedSearchCV\n",
        "random_search = RandomizedSearchCV(\n",
        "    estimator=RandomForestClassifier(random_state=42),\n",
        "    param_distributions=param_dist,\n",
        "    n_iter=30,\n",
        "    cv=5,\n",
        "    scoring='f1_weighted',\n",
        "    random_state=42,\n",
        "    n_jobs=-1,\n",
        "    verbose=1\n",
        ")\n",
        "\n",
        "# Run the search\n",
        "random_search.fit(X_train, y_train)\n",
        "\n",
        "# Best parameters and score\n",
        "best_params = random_search.best_params_\n",
        "best_score = random_search.best_score_\n",
        "\n",
        "best_params, best_score\n"
      ],
      "metadata": {
        "colab": {
          "base_uri": "https://localhost:8080/"
        },
        "id": "3AhelUasb-xF",
        "outputId": "35c7335d-0ce4-4bd8-8cff-8161091fc615"
      },
      "execution_count": 8,
      "outputs": [
        {
          "output_type": "stream",
          "name": "stdout",
          "text": [
            "Fitting 5 folds for each of 30 candidates, totalling 150 fits\n"
          ]
        },
        {
          "output_type": "execute_result",
          "data": {
            "text/plain": [
              "({'class_weight': 'balanced',\n",
              "  'max_depth': None,\n",
              "  'min_samples_leaf': 4,\n",
              "  'min_samples_split': 5,\n",
              "  'n_estimators': 136},\n",
              " np.float64(0.7393005138420993))"
            ]
          },
          "metadata": {},
          "execution_count": 8
        }
      ]
    }
  ]
}