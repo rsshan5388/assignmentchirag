{
  "nbformat": 4,
  "nbformat_minor": 0,
  "metadata": {
    "colab": {
      "provenance": [],
      "include_colab_link": true
    },
    "kernelspec": {
      "name": "python3",
      "display_name": "Python 3"
    },
    "language_info": {
      "name": "python"
    }
  },
  "cells": [
    {
      "cell_type": "markdown",
      "metadata": {
        "id": "view-in-github",
        "colab_type": "text"
      },
      "source": [
        "<a href=\"https://colab.research.google.com/github/rsshan5388/assignmentchirag/blob/main/Copy_of_Python_Programming_Basics_Colab_Notebook.ipynb\" target=\"_parent\"><img src=\"https://colab.research.google.com/assets/colab-badge.svg\" alt=\"Open In Colab\"/></a>"
      ]
    },
    {
      "cell_type": "markdown",
      "source": [
        "# ============================\n",
        "# 1. Variables in Python\n",
        "# ============================"
      ],
      "metadata": {
        "id": "0EWs7rntVUY_"
      }
    },
    {
      "cell_type": "markdown",
      "source": [
        "# Variables are used to store data. In Python, you don't need to declare a variable type explicitly."
      ],
      "metadata": {
        "id": "38ZYFynnVhxa"
      }
    },
    {
      "cell_type": "code",
      "execution_count": null,
      "metadata": {
        "colab": {
          "base_uri": "https://localhost:8080/"
        },
        "id": "3GSMoxbdVQ4Y",
        "outputId": "7aa525ca-b865-4340-d2a7-150e03d8afe7"
      },
      "outputs": [
        {
          "output_type": "stream",
          "name": "stdout",
          "text": [
            "x: 5 Type: <class 'int'>\n",
            "y: 10.5 Type: <class 'float'>\n",
            "z: Hello, Python! Type: <class 'str'>\n",
            "is_python_fun: True Type: <class 'bool'>\n"
          ]
        }
      ],
      "source": [
        "x = 5  # Integer Variable\n",
        "y = 10.5  # Float Variable\n",
        "z = \"Hello, Python!\"  # String Variable\n",
        "is_python_fun = True  # Boolean Variable\n",
        "\n",
        "# Printing the values and their types\n",
        "print(\"x:\", x, \"Type:\", type(x))\n",
        "print(\"y:\", y, \"Type:\", type(y))\n",
        "print(\"z:\", z, \"Type:\", type(z))\n",
        "print(\"is_python_fun:\", is_python_fun, \"Type:\", type(is_python_fun))"
      ]
    },
    {
      "cell_type": "markdown",
      "source": [
        "# ============================\n",
        "# 2. Data Types and Operations\n",
        "# ============================"
      ],
      "metadata": {
        "id": "67xiFkF2Vp3E"
      }
    },
    {
      "cell_type": "markdown",
      "source": [
        "# ----------------------------\n",
        "# Integers and Floats\n",
        "# ----------------------------"
      ],
      "metadata": {
        "id": "_L-HESqtVsCS"
      }
    },
    {
      "cell_type": "code",
      "source": [
        "a = 10\n",
        "b = 3.5"
      ],
      "metadata": {
        "id": "bIqJq5BqV08T"
      },
      "execution_count": null,
      "outputs": []
    },
    {
      "cell_type": "code",
      "source": [
        "# Basic Arithmetic Operations\n",
        "print(\"Addition:\", a + b)\n",
        "print(\"Subtraction:\", a - b)\n",
        "print(\"Multiplication:\", a * b)\n",
        "print(\"Division:\", a / b)\n",
        "print(\"Floor Division:\", a // b)  # Rounds down\n",
        "print(\"Modulus:\", a % b)  # Remainder\n",
        "print(\"Exponentiation:\", a ** 2)  # a squared"
      ],
      "metadata": {
        "colab": {
          "base_uri": "https://localhost:8080/"
        },
        "id": "fSFLTGvAVm5V",
        "outputId": "1d93aa24-85ac-4249-e18a-3d729654c25d"
      },
      "execution_count": null,
      "outputs": [
        {
          "output_type": "stream",
          "name": "stdout",
          "text": [
            "Addition: 13.5\n",
            "Subtraction: 6.5\n",
            "Multiplication: 35.0\n",
            "Division: 2.857142857142857\n",
            "Floor Division: 2.0\n",
            "Modulus: 3.0\n",
            "Exponentiation: 100\n"
          ]
        }
      ]
    },
    {
      "cell_type": "markdown",
      "source": [
        "# ----------------------------\n",
        "# Strings and String Operations\n",
        "# ----------------------------"
      ],
      "metadata": {
        "id": "CUhqMfXRWNbC"
      }
    },
    {
      "cell_type": "code",
      "source": [
        "string = \"Python Programming\"\n",
        "print(\"Upper Case:\", string.upper())\n",
        "print(\"Lower Case:\", string.lower())\n",
        "print(\"Title Case:\", string.title())\n",
        "print(\"Replace:\", string.replace(\"Python\", \"Advanced Python\"))\n",
        "print(\"Split:\", string.split())\n",
        "print(\"Concatenation:\", string + \" is fun!\")\n",
        "print(\"Repetition:\", string * 2)"
      ],
      "metadata": {
        "colab": {
          "base_uri": "https://localhost:8080/"
        },
        "id": "w-VXRQpJV4ue",
        "outputId": "3ffb67e3-2960-4e8c-cd0a-c2f933eb4c2d"
      },
      "execution_count": null,
      "outputs": [
        {
          "output_type": "stream",
          "name": "stdout",
          "text": [
            "Upper Case: PYTHON PROGRAMMING\n",
            "Lower Case: python programming\n",
            "Title Case: Python Programming\n",
            "Replace: Advanced Python Programming\n",
            "Split: ['Python', 'Programming']\n",
            "Concatenation: Python Programming is fun!\n",
            "Repetition: Python ProgrammingPython Programming\n"
          ]
        }
      ]
    },
    {
      "cell_type": "markdown",
      "source": [
        "# ============================\n",
        "# 3. Data Structures in Python\n",
        "# ============================"
      ],
      "metadata": {
        "id": "WMc6WrklWlzL"
      }
    },
    {
      "cell_type": "markdown",
      "source": [
        "# ----------------------------\n",
        "# Lists and its Operations\n",
        "# ----------------------------"
      ],
      "metadata": {
        "id": "iLH3alv7WuqN"
      }
    },
    {
      "cell_type": "code",
      "source": [
        "my_list = [1, 2, 3, 4, 5]\n",
        "print(\"Original List:\", my_list)\n",
        "my_list.append(6)  # Add an element\n",
        "print(\"After Append:\", my_list)\n",
        "my_list.remove(3)  # Remove an element\n",
        "print(\"After Remove:\", my_list)\n",
        "my_list.insert(2, 99)  # Insert at index 2\n",
        "print(\"After Insert:\", my_list)\n",
        "my_list.sort()  # Sorting the list\n",
        "print(\"Sorted List:\", my_list)"
      ],
      "metadata": {
        "colab": {
          "base_uri": "https://localhost:8080/"
        },
        "id": "cp5KzxcRWP2T",
        "outputId": "65ef75df-a44b-4dfd-fd59-3391bc7cc094"
      },
      "execution_count": null,
      "outputs": [
        {
          "output_type": "stream",
          "name": "stdout",
          "text": [
            "Original List: [1, 2, 3, 4, 5]\n",
            "After Append: [1, 2, 3, 4, 5, 6]\n",
            "After Remove: [1, 2, 4, 5, 6]\n",
            "After Insert: [1, 2, 99, 4, 5, 6]\n",
            "Sorted List: [1, 2, 4, 5, 6, 99]\n"
          ]
        }
      ]
    },
    {
      "cell_type": "markdown",
      "source": [
        "# ----------------------------\n",
        "# Tuples and its Operations (Immutable)\n",
        "# ----------------------------"
      ],
      "metadata": {
        "id": "W1Ps9rFhW4mv"
      }
    },
    {
      "cell_type": "code",
      "source": [
        "my_tuple = (10, 20, 30, 40, 50)\n",
        "print(\"Tuple Elements:\", my_tuple)\n",
        "print(\"Accessing Element:\", my_tuple[2])  # Indexing"
      ],
      "metadata": {
        "colab": {
          "base_uri": "https://localhost:8080/"
        },
        "id": "Jn1mbGecWxkK",
        "outputId": "abce4459-0a3a-451c-9dcb-a098970160f8"
      },
      "execution_count": null,
      "outputs": [
        {
          "output_type": "stream",
          "name": "stdout",
          "text": [
            "Tuple Elements: (10, 20, 30, 40, 50)\n",
            "Accessing Element: 30\n"
          ]
        }
      ]
    },
    {
      "cell_type": "code",
      "source": [
        "# Error : when you try to use Tuple as Mutable Data Structure"
      ],
      "metadata": {
        "id": "6qPEYJSSW8oF"
      },
      "execution_count": null,
      "outputs": []
    },
    {
      "cell_type": "code",
      "source": [
        "my_tuple[2] = 300"
      ],
      "metadata": {
        "colab": {
          "base_uri": "https://localhost:8080/",
          "height": 141
        },
        "id": "m2PzDXykXJ5l",
        "outputId": "5e778244-a47f-4a70-ec44-19ed7324288e"
      },
      "execution_count": null,
      "outputs": [
        {
          "output_type": "error",
          "ename": "TypeError",
          "evalue": "'tuple' object does not support item assignment",
          "traceback": [
            "\u001b[0;31m---------------------------------------------------------------------------\u001b[0m",
            "\u001b[0;31mTypeError\u001b[0m                                 Traceback (most recent call last)",
            "\u001b[0;32m<ipython-input-7-422d250acc15>\u001b[0m in \u001b[0;36m<cell line: 0>\u001b[0;34m()\u001b[0m\n\u001b[0;32m----> 1\u001b[0;31m \u001b[0mmy_tuple\u001b[0m\u001b[0;34m[\u001b[0m\u001b[0;36m2\u001b[0m\u001b[0;34m]\u001b[0m \u001b[0;34m=\u001b[0m \u001b[0;36m300\u001b[0m\u001b[0;34m\u001b[0m\u001b[0;34m\u001b[0m\u001b[0m\n\u001b[0m",
            "\u001b[0;31mTypeError\u001b[0m: 'tuple' object does not support item assignment"
          ]
        }
      ]
    },
    {
      "cell_type": "markdown",
      "source": [
        "# ----------------------------\n",
        "# Sets and its Operations (Unique Elements)\n",
        "# ----------------------------"
      ],
      "metadata": {
        "id": "8Z6HyTdZXNmn"
      }
    },
    {
      "cell_type": "code",
      "source": [
        "my_set = {1, 2, 3, 4, 5}\n",
        "print(\"Original Set:\", my_set)\n",
        "my_set.add(6)  # Add an element\n",
        "print(\"After Add:\", my_set)\n",
        "my_set.remove(2)  # Remove an element\n",
        "print(\"After Remove:\", my_set)"
      ],
      "metadata": {
        "colab": {
          "base_uri": "https://localhost:8080/"
        },
        "id": "P83YfiHrXLzv",
        "outputId": "464bf523-b03e-4e84-95d5-593e83fb091e"
      },
      "execution_count": null,
      "outputs": [
        {
          "output_type": "stream",
          "name": "stdout",
          "text": [
            "Original Set: {1, 2, 3, 4, 5}\n",
            "After Add: {1, 2, 3, 4, 5, 6}\n",
            "After Remove: {1, 3, 4, 5, 6}\n"
          ]
        }
      ]
    },
    {
      "cell_type": "code",
      "source": [
        "# No Duplicates"
      ],
      "metadata": {
        "id": "6bCAJZFTXcpN"
      },
      "execution_count": null,
      "outputs": []
    },
    {
      "cell_type": "code",
      "source": [
        "my_set_dup = {1, 2, 3, 4, 5, 1, 2}"
      ],
      "metadata": {
        "id": "Wwp_ftvhXi4R"
      },
      "execution_count": null,
      "outputs": []
    },
    {
      "cell_type": "code",
      "source": [
        "my_set_dup"
      ],
      "metadata": {
        "colab": {
          "base_uri": "https://localhost:8080/"
        },
        "id": "MlMJEn_5Xm5V",
        "outputId": "2dc48a05-6663-485f-9f37-cf18c831b3da"
      },
      "execution_count": null,
      "outputs": [
        {
          "output_type": "execute_result",
          "data": {
            "text/plain": [
              "{1, 2, 3, 4, 5}"
            ]
          },
          "metadata": {},
          "execution_count": 10
        }
      ]
    },
    {
      "cell_type": "markdown",
      "source": [
        "# ----------------------------\n",
        "# Dictionary and its Operations (Key-Value Pairs)\n",
        "# ----------------------------"
      ],
      "metadata": {
        "id": "H_GG3Zk0Xq4O"
      }
    },
    {
      "cell_type": "code",
      "source": [
        "my_dict = {\"name\": \"Alice\", \"age\": 25, \"city\": \"New York\"}\n",
        "print(\"Dictionary:\", my_dict)\n",
        "my_dict[\"age\"] = 26  # Modifying a value\n",
        "print(\"Updated Dictionary:\", my_dict)\n",
        "my_dict[\"country\"] = \"USA\"  # Adding a new key-value pair\n",
        "print(\"Dictionary After Adding:\", my_dict)"
      ],
      "metadata": {
        "colab": {
          "base_uri": "https://localhost:8080/"
        },
        "id": "zIYD0fJuXn3t",
        "outputId": "751a3d56-eff8-4b47-de77-7297c52eeef3"
      },
      "execution_count": null,
      "outputs": [
        {
          "output_type": "stream",
          "name": "stdout",
          "text": [
            "Dictionary: {'name': 'Alice', 'age': 25, 'city': 'New York'}\n",
            "Updated Dictionary: {'name': 'Alice', 'age': 26, 'city': 'New York'}\n",
            "Dictionary After Adding: {'name': 'Alice', 'age': 26, 'city': 'New York', 'country': 'USA'}\n"
          ]
        }
      ]
    },
    {
      "cell_type": "markdown",
      "source": [
        "# ============================\n",
        "# 4. Conditional Statements\n",
        "# ============================"
      ],
      "metadata": {
        "id": "pZGkm9g_XzHc"
      }
    },
    {
      "cell_type": "code",
      "source": [
        "num = 10\n",
        "if num > 0:\n",
        "    print(\"Positive number\")\n",
        "elif num < 0:\n",
        "    print(\"Negative number\")\n",
        "else:\n",
        "    print(\"Zero\")"
      ],
      "metadata": {
        "colab": {
          "base_uri": "https://localhost:8080/"
        },
        "id": "Pg2eE7FdXtme",
        "outputId": "1129a590-1a86-43a5-8d39-2a63957e7149"
      },
      "execution_count": null,
      "outputs": [
        {
          "output_type": "stream",
          "name": "stdout",
          "text": [
            "Positive number\n"
          ]
        }
      ]
    },
    {
      "cell_type": "code",
      "source": [
        "# Checking Even or Odd\n",
        "def check_even_odd(n):\n",
        "    if n % 2 == 0:\n",
        "        return \"Even\"\n",
        "    else:\n",
        "        return \"Odd\"\n",
        "print(\"Number 7 is:\", check_even_odd(7))"
      ],
      "metadata": {
        "colab": {
          "base_uri": "https://localhost:8080/"
        },
        "id": "T0uRqGuPX1sy",
        "outputId": "600f46a9-12e5-4162-997e-93506caa05c8"
      },
      "execution_count": null,
      "outputs": [
        {
          "output_type": "stream",
          "name": "stdout",
          "text": [
            "Number 7 is: Odd\n"
          ]
        }
      ]
    },
    {
      "cell_type": "markdown",
      "source": [
        "# ============================\n",
        "# 5. Loops in Python\n",
        "# ============================"
      ],
      "metadata": {
        "id": "7SOHwileX6OP"
      }
    },
    {
      "cell_type": "code",
      "source": [
        "# For Loop\n",
        "print(\"For Loop Example:\")\n",
        "for i in range(1, 6):\n",
        "    print(i)"
      ],
      "metadata": {
        "colab": {
          "base_uri": "https://localhost:8080/"
        },
        "id": "IPd8rAN7X4QG",
        "outputId": "1b3f0957-fcc5-4bdd-ef7c-ed32c8936915"
      },
      "execution_count": null,
      "outputs": [
        {
          "output_type": "stream",
          "name": "stdout",
          "text": [
            "For Loop Example:\n",
            "1\n",
            "2\n",
            "3\n",
            "4\n",
            "5\n"
          ]
        }
      ]
    },
    {
      "cell_type": "code",
      "source": [
        "# While Loop\n",
        "print(\"While Loop Example:\")\n",
        "count = 0\n",
        "while count < 5:\n",
        "    print(count)\n",
        "    count += 1"
      ],
      "metadata": {
        "colab": {
          "base_uri": "https://localhost:8080/"
        },
        "id": "6zwjW3yFX83I",
        "outputId": "43ec21ab-ca93-4fc1-f123-0807859acabb"
      },
      "execution_count": null,
      "outputs": [
        {
          "output_type": "stream",
          "name": "stdout",
          "text": [
            "While Loop Example:\n",
            "0\n",
            "1\n",
            "2\n",
            "3\n",
            "4\n"
          ]
        }
      ]
    },
    {
      "cell_type": "markdown",
      "source": [
        "# ============================\n",
        "# 6. User-Defined Functions\n",
        "# ============================"
      ],
      "metadata": {
        "id": "FI0gd0xqYE0Q"
      }
    },
    {
      "cell_type": "code",
      "source": [
        "def greet(name):\n",
        "    \"\"\"Function to greet a person\"\"\"\n",
        "    return \"Hello, \" + name + \"!\"\n",
        "print(greet(\"Alice\"))"
      ],
      "metadata": {
        "colab": {
          "base_uri": "https://localhost:8080/"
        },
        "id": "J4rHiPFGX_jZ",
        "outputId": "fc1c5e79-e328-4bb1-dbcb-66d6cf3fd513"
      },
      "execution_count": null,
      "outputs": [
        {
          "output_type": "stream",
          "name": "stdout",
          "text": [
            "Hello, Alice!\n"
          ]
        }
      ]
    },
    {
      "cell_type": "code",
      "source": [
        "# Function with Default Parameters\n",
        "def power(base, exp=2):\n",
        "    return base ** exp\n",
        "print(\"Power Function Example:\", power(3))"
      ],
      "metadata": {
        "colab": {
          "base_uri": "https://localhost:8080/"
        },
        "id": "n01bPG_VYHc1",
        "outputId": "7ddcd546-5357-421b-cad4-e7c5e0dd6c62"
      },
      "execution_count": null,
      "outputs": [
        {
          "output_type": "stream",
          "name": "stdout",
          "text": [
            "Power Function Example: 9\n"
          ]
        }
      ]
    },
    {
      "cell_type": "markdown",
      "source": [
        "# ============================\n",
        "# 7. Lambda Functions\n",
        "# ============================"
      ],
      "metadata": {
        "id": "yA_QlaZEYOrK"
      }
    },
    {
      "cell_type": "code",
      "source": [
        "# Lambda Function for Squaring\n",
        "times_two = lambda x: x * 2\n",
        "print(\"Lambda Function Output:\", times_two(5))"
      ],
      "metadata": {
        "colab": {
          "base_uri": "https://localhost:8080/"
        },
        "id": "4ztW1iPxYKVg",
        "outputId": "855b1c77-0ffe-4814-ffed-bc0acb4b6719"
      },
      "execution_count": null,
      "outputs": [
        {
          "output_type": "stream",
          "name": "stdout",
          "text": [
            "Lambda Function Output: 10\n"
          ]
        }
      ]
    },
    {
      "cell_type": "code",
      "source": [
        "# Lambda Function with Multiple Arguments\n",
        "sum_numbers = lambda a, b: a + b\n",
        "print(\"Sum Using Lambda:\", sum_numbers(3, 7))"
      ],
      "metadata": {
        "colab": {
          "base_uri": "https://localhost:8080/"
        },
        "id": "zJ2rxCe8YRXq",
        "outputId": "cc89fad3-a354-48f4-9546-56f77ead89b3"
      },
      "execution_count": null,
      "outputs": [
        {
          "output_type": "stream",
          "name": "stdout",
          "text": [
            "Sum Using Lambda: 10\n"
          ]
        }
      ]
    },
    {
      "cell_type": "markdown",
      "source": [
        "# ============================\n",
        "# 8. String Operations\n",
        "# ============================"
      ],
      "metadata": {
        "id": "Y4WWoFv9YmTs"
      }
    },
    {
      "cell_type": "code",
      "source": [
        "message = \"Python is powerful and easy to learn.\"\n",
        "print(\"Length of String:\", len(message))\n",
        "print(\"Substring Check:\", \"powerful\" in message)\n",
        "print(\"String Slice:\", message[7:16])\n",
        "print(\"String Reverse:\", message[::-1])"
      ],
      "metadata": {
        "colab": {
          "base_uri": "https://localhost:8080/"
        },
        "id": "h9l_CmzgYTnT",
        "outputId": "cc184466-68a4-4807-e0c5-7935879b46e7"
      },
      "execution_count": null,
      "outputs": [
        {
          "output_type": "stream",
          "name": "stdout",
          "text": [
            "Length of String: 37\n",
            "Substring Check: True\n",
            "String Slice: is powerf\n",
            "String Reverse: .nrael ot ysae dna lufrewop si nohtyP\n"
          ]
        }
      ]
    }
  ]
}