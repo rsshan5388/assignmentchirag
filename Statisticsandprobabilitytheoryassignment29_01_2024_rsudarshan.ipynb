{
  "nbformat": 4,
  "nbformat_minor": 0,
  "metadata": {
    "colab": {
      "provenance": [],
      "authorship_tag": "ABX9TyO7B6fEgf96AdB4/0hHIv5v",
      "include_colab_link": true
    },
    "kernelspec": {
      "name": "python3",
      "display_name": "Python 3"
    },
    "language_info": {
      "name": "python"
    }
  },
  "cells": [
    {
      "cell_type": "markdown",
      "metadata": {
        "id": "view-in-github",
        "colab_type": "text"
      },
      "source": [
        "<a href=\"https://colab.research.google.com/github/rsshan5388/assignmentchirag/blob/main/Statisticsandprobabilitytheoryassignment29_01_2024_rsudarshan.ipynb\" target=\"_parent\"><img src=\"https://colab.research.google.com/assets/colab-badge.svg\" alt=\"Open In Colab\"/></a>"
      ]
    },
    {
      "cell_type": "code",
      "execution_count": null,
      "metadata": {
        "id": "LXqa1GpAJLvo"
      },
      "outputs": [],
      "source": []
    },
    {
      "cell_type": "markdown",
      "source": [
        "Q1 Explain the difference between descriptive and inferential statistics provide example for each"
      ],
      "metadata": {
        "id": "hnboKdZpJmsX"
      }
    },
    {
      "cell_type": "markdown",
      "source": [
        "Ans : Descriptive and inferential statistics are two fundamental branches of statistics that serve different purposes in data analysis.\n",
        "**Descriptive Statistics**\n",
        "Descriptive statistics focus on summarizing and presenting the characteristics of a dataset. This branch of statistics organizes, displays, and describes data through various methods, allowing researchers to understand the data at hand without making predictions or generalizations beyond it. Key features include:\n",
        "Purpose: To describe and summarize the characteristics of a dataset.\n",
        "Methods: Utilizes measures of central tendency (mean, median, mode), measures of spread (range, variance, standard deviation), and graphical representations (charts, graphs).\n",
        "Result Format: Presents results in tables, charts, or graphs.\n",
        "Example: If a researcher collects the scores of 100 students in a test, descriptive statistics can be used to calculate the average score and the distribution of scores to illustrate overall performance\n",
        "\n",
        "Inferential Statistics **bold text**\n",
        "Inferential statistics, on the other hand, allow researchers to make conclusions or predictions about a larger population based on a sample of data. This branch is essential for hypothesis testing and making inferences that extend beyond the immediate data. Key features include:\n",
        "Purpose: To make generalizations or predictions about a larger population based on sample data.\n",
        "Methods: Involves techniques such as hypothesis testing, confidence intervals, regression analysis, and correlation.\n",
        "Result Format: Presents results in terms of probabilities or estimates.\n",
        "Example: Using the scores from a sample of 100 students to infer the average score of all students in a country. This involves statistical methods to estimate population parameters based on the sample.\n",
        "\n",
        "\n",
        "\n",
        "\n"
      ],
      "metadata": {
        "id": "HdKAYFyuJlz4"
      }
    }
  ]
}