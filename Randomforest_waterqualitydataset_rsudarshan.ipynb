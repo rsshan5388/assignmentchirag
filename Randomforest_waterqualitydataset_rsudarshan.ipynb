{
  "nbformat": 4,
  "nbformat_minor": 0,
  "metadata": {
    "colab": {
      "provenance": [],
      "authorship_tag": "ABX9TyOf+fFohjFI9ECuD7yn6dwr",
      "include_colab_link": true
    },
    "kernelspec": {
      "name": "python3",
      "display_name": "Python 3"
    },
    "language_info": {
      "name": "python"
    }
  },
  "cells": [
    {
      "cell_type": "markdown",
      "metadata": {
        "id": "view-in-github",
        "colab_type": "text"
      },
      "source": [
        "<a href=\"https://colab.research.google.com/github/rsshan5388/assignmentchirag/blob/main/Randomforest_waterqualitydataset_rsudarshan.ipynb\" target=\"_parent\"><img src=\"https://colab.research.google.com/assets/colab-badge.svg\" alt=\"Open In Colab\"/></a>"
      ]
    },
    {
      "cell_type": "code",
      "execution_count": 3,
      "metadata": {
        "colab": {
          "base_uri": "https://localhost:8080/"
        },
        "id": "xvlRpzhTzWJy",
        "outputId": "6cc6bcff-fc20-4a33-9cf0-a875d84afc44"
      },
      "outputs": [
        {
          "output_type": "stream",
          "name": "stdout",
          "text": [
            "Drive already mounted at /content/drive; to attempt to forcibly remount, call drive.mount(\"/content/drive\", force_remount=True).\n"
          ]
        }
      ],
      "source": [
        "from google.colab import drive\n",
        "drive.mount('/content/drive')"
      ]
    },
    {
      "cell_type": "code",
      "source": [
        "import pandas as pd\n",
        "\n",
        "# Load the uploaded dataset\n",
        "df  = pd.read_csv('/content/drive/My Drive/randomforest/waterQuality1.csv')\n",
        "\n",
        "\n",
        "# Display basic information and the first few rows of the dataset\n",
        "df.info(), df.head()"
      ],
      "metadata": {
        "colab": {
          "base_uri": "https://localhost:8080/"
        },
        "id": "3BFVNqIY0UJC",
        "outputId": "cf50629c-0381-4c37-c1ee-71e250fc3a67"
      },
      "execution_count": 4,
      "outputs": [
        {
          "output_type": "stream",
          "name": "stdout",
          "text": [
            "<class 'pandas.core.frame.DataFrame'>\n",
            "RangeIndex: 7999 entries, 0 to 7998\n",
            "Data columns (total 21 columns):\n",
            " #   Column       Non-Null Count  Dtype  \n",
            "---  ------       --------------  -----  \n",
            " 0   aluminium    7999 non-null   float64\n",
            " 1   ammonia      7999 non-null   object \n",
            " 2   arsenic      7999 non-null   float64\n",
            " 3   barium       7999 non-null   float64\n",
            " 4   cadmium      7999 non-null   float64\n",
            " 5   chloramine   7999 non-null   float64\n",
            " 6   chromium     7999 non-null   float64\n",
            " 7   copper       7999 non-null   float64\n",
            " 8   flouride     7999 non-null   float64\n",
            " 9   bacteria     7999 non-null   float64\n",
            " 10  viruses      7999 non-null   float64\n",
            " 11  lead         7999 non-null   float64\n",
            " 12  nitrates     7999 non-null   float64\n",
            " 13  nitrites     7999 non-null   float64\n",
            " 14  mercury      7999 non-null   float64\n",
            " 15  perchlorate  7999 non-null   float64\n",
            " 16  radium       7999 non-null   float64\n",
            " 17  selenium     7999 non-null   float64\n",
            " 18  silver       7999 non-null   float64\n",
            " 19  uranium      7999 non-null   float64\n",
            " 20  is_safe      7999 non-null   object \n",
            "dtypes: float64(19), object(2)\n",
            "memory usage: 1.3+ MB\n"
          ]
        },
        {
          "output_type": "execute_result",
          "data": {
            "text/plain": [
              "(None,\n",
              "    aluminium ammonia  arsenic  barium  cadmium  chloramine  chromium  copper  \\\n",
              " 0       1.65    9.08     0.04    2.85    0.007        0.35      0.83    0.17   \n",
              " 1       2.32   21.16     0.01    3.31    0.002        5.28      0.68    0.66   \n",
              " 2       1.01   14.02     0.04    0.58    0.008        4.24      0.53    0.02   \n",
              " 3       1.36   11.33     0.04    2.96    0.001        7.23      0.03    1.66   \n",
              " 4       0.92   24.33     0.03    0.20    0.006        2.67      0.69    0.57   \n",
              " \n",
              "    flouride  bacteria  ...   lead  nitrates  nitrites  mercury  perchlorate  \\\n",
              " 0      0.05      0.20  ...  0.054     16.08      1.13    0.007        37.75   \n",
              " 1      0.90      0.65  ...  0.100      2.01      1.93    0.003        32.26   \n",
              " 2      0.99      0.05  ...  0.078     14.16      1.11    0.006        50.28   \n",
              " 3      1.08      0.71  ...  0.016      1.41      1.29    0.004         9.12   \n",
              " 4      0.61      0.13  ...  0.117      6.74      1.11    0.003        16.90   \n",
              " \n",
              "    radium  selenium  silver  uranium  is_safe  \n",
              " 0    6.78      0.08    0.34     0.02        1  \n",
              " 1    3.21      0.08    0.27     0.05        1  \n",
              " 2    7.07      0.07    0.44     0.01        0  \n",
              " 3    1.72      0.02    0.45     0.05        1  \n",
              " 4    2.41      0.02    0.06     0.02        1  \n",
              " \n",
              " [5 rows x 21 columns])"
            ]
          },
          "metadata": {},
          "execution_count": 4
        }
      ]
    },
    {
      "cell_type": "markdown",
      "source": [
        "The dataset contains 7,999 samples with 21 features, including both numeric measurements and the target variable is_safe, which indicates water safety (likely binary: 0 = unsafe, 1 = safe). Here are the key observations from the initial inspection:\n",
        "\n",
        " **Initial Observations:**\n",
        "\n",
        "Most columns are of type float64, suitable for numerical analysis.\n",
        "\n",
        "Two columns are of type object:\n",
        "\n",
        "ammonia: should likely be numeric but is read as object—needs cleaning.\n",
        "\n",
        "is_safe: the target label, also needs conversion to numeric if not already."
      ],
      "metadata": {
        "id": "rBP7l_mY1Hxn"
      }
    },
    {
      "cell_type": "markdown",
      "source": [
        "**Clean Data  and preprocess data**\n"
      ],
      "metadata": {
        "id": "Y7gs8Xyu1XLC"
      }
    },
    {
      "cell_type": "code",
      "source": [
        "import numpy as np\n",
        "\n",
        "# Convert 'ammonia' to numeric, forcing errors to NaN to identify bad entries\n",
        "df['ammonia'] = pd.to_numeric(df['ammonia'], errors='coerce')\n",
        "\n",
        "# Convert 'is_safe' to integer (if not already)\n",
        "df['is_safe'] = pd.to_numeric(df['is_safe'], errors='coerce').astype('Int64')\n",
        "\n",
        "# Check for missing values introduced or already present\n",
        "missing_values = df.isnull().sum()\n",
        "\n",
        "# Fill missing values with column median (a robust choice)\n",
        "df.fillna(df.median(numeric_only=True), inplace=True)\n",
        "\n",
        "# Confirm no missing values remain\n",
        "post_clean_missing = df.isnull().sum()\n",
        "\n",
        "missing_values, post_clean_missing"
      ],
      "metadata": {
        "colab": {
          "base_uri": "https://localhost:8080/"
        },
        "id": "UsfZ9OiI1c3U",
        "outputId": "1676421a-9060-4084-cc89-46dc7f924d37"
      },
      "execution_count": 5,
      "outputs": [
        {
          "output_type": "execute_result",
          "data": {
            "text/plain": [
              "(aluminium      0\n",
              " ammonia        3\n",
              " arsenic        0\n",
              " barium         0\n",
              " cadmium        0\n",
              " chloramine     0\n",
              " chromium       0\n",
              " copper         0\n",
              " flouride       0\n",
              " bacteria       0\n",
              " viruses        0\n",
              " lead           0\n",
              " nitrates       0\n",
              " nitrites       0\n",
              " mercury        0\n",
              " perchlorate    0\n",
              " radium         0\n",
              " selenium       0\n",
              " silver         0\n",
              " uranium        0\n",
              " is_safe        3\n",
              " dtype: int64,\n",
              " aluminium      0\n",
              " ammonia        0\n",
              " arsenic        0\n",
              " barium         0\n",
              " cadmium        0\n",
              " chloramine     0\n",
              " chromium       0\n",
              " copper         0\n",
              " flouride       0\n",
              " bacteria       0\n",
              " viruses        0\n",
              " lead           0\n",
              " nitrates       0\n",
              " nitrites       0\n",
              " mercury        0\n",
              " perchlorate    0\n",
              " radium         0\n",
              " selenium       0\n",
              " silver         0\n",
              " uranium        0\n",
              " is_safe        0\n",
              " dtype: int64)"
            ]
          },
          "metadata": {},
          "execution_count": 5
        }
      ]
    },
    {
      "cell_type": "code",
      "source": [],
      "metadata": {
        "id": "wMUCMDye09oT"
      },
      "execution_count": null,
      "outputs": []
    },
    {
      "cell_type": "markdown",
      "source": [
        "**Data Cleaning Completed:**\n",
        "\n",
        "ammonia had 3 invalid entries, now replaced with the column median.\n",
        "\n",
        "is_safe had 3 missing values, also filled using the median.\n",
        "\n",
        "No missing values remain in the dataset. All columns are now numeric and suitable for modeling."
      ],
      "metadata": {
        "id": "JHrDNImg1pKC"
      }
    },
    {
      "cell_type": "markdown",
      "source": [
        "**Data Exploration & Train-Test Split**\n",
        "\n",
        "\n",
        "\n",
        "\n",
        "\n",
        "\n",
        "\n",
        "\n",
        "\n"
      ],
      "metadata": {
        "id": "dHlQ2EB71syi"
      }
    },
    {
      "cell_type": "code",
      "source": [
        "from sklearn.model_selection import train_test_split\n",
        "\n",
        "# Separate features and target\n",
        "X = df.drop(columns='is_safe')\n",
        "y = df['is_safe']\n",
        "\n",
        "# Perform train-test split (80% training, 20% testing)\n",
        "X_train, X_test, y_train, y_test = train_test_split(X, y, test_size=0.2, random_state=42, stratify=y)\n",
        "\n",
        "# Output the shape of the splits\n",
        "X_train.shape, X_test.shape, y_train.shape, y_test.shape"
      ],
      "metadata": {
        "colab": {
          "base_uri": "https://localhost:8080/"
        },
        "id": "KRG9zRsP18T8",
        "outputId": "30e02c25-b9ea-4b05-de2e-fa1d5ede694e"
      },
      "execution_count": 6,
      "outputs": [
        {
          "output_type": "execute_result",
          "data": {
            "text/plain": [
              "((6399, 20), (1600, 20), (6399,), (1600,))"
            ]
          },
          "metadata": {},
          "execution_count": 6
        }
      ]
    },
    {
      "cell_type": "markdown",
      "source": [
        "**Train-Test Split Completed:**\n",
        "\n",
        "Training set: 6,399 samples\n",
        "\n",
        "Testing set: 1,600 samples\n",
        "\n",
        "Features: 20 predictors"
      ],
      "metadata": {
        "id": "PekgeHSl2ByV"
      }
    },
    {
      "cell_type": "markdown",
      "source": [
        "**Training Model  **"
      ],
      "metadata": {
        "id": "FGezh_sv2g01"
      }
    },
    {
      "cell_type": "code",
      "source": [
        "from sklearn.ensemble import RandomForestClassifier\n",
        "from sklearn.metrics import classification_report, accuracy_score\n",
        "\n",
        "# Initialize and train the Random Forest classifier with default parameters\n",
        "rf_model = RandomForestClassifier(random_state=42)\n",
        "rf_model.fit(X_train, y_train)\n",
        "\n",
        "# Predict on the test data\n",
        "y_pred = rf_model.predict(X_test)\n",
        "\n",
        "# Evaluate the model\n",
        "accuracy = accuracy_score(y_test, y_pred)\n",
        "report = classification_report(y_test, y_pred, output_dict=True)\n",
        "\n",
        "accuracy, report"
      ],
      "metadata": {
        "colab": {
          "base_uri": "https://localhost:8080/"
        },
        "id": "ZQUiY_ed2evQ",
        "outputId": "72ad3621-c233-4258-c734-a76fb1d3cb74"
      },
      "execution_count": 7,
      "outputs": [
        {
          "output_type": "execute_result",
          "data": {
            "text/plain": [
              "(0.956875,\n",
              " {'0.0': {'precision': 0.9585316111488783,\n",
              "   'recall': 0.9943582510578279,\n",
              "   'f1-score': 0.9761163032191069,\n",
              "   'support': 1418.0},\n",
              "  '1.0': {'precision': 0.937984496124031,\n",
              "   'recall': 0.6648351648351648,\n",
              "   'f1-score': 0.7781350482315113,\n",
              "   'support': 182.0},\n",
              "  'accuracy': 0.956875,\n",
              "  'macro avg': {'precision': 0.9482580536364547,\n",
              "   'recall': 0.8295967079464963,\n",
              "   'f1-score': 0.8771256757253091,\n",
              "   'support': 1600.0},\n",
              "  'weighted avg': {'precision': 0.9561943768148019,\n",
              "   'recall': 0.956875,\n",
              "   'f1-score': 0.9535959354642679,\n",
              "   'support': 1600.0}})"
            ]
          },
          "metadata": {},
          "execution_count": 7
        }
      ]
    },
    {
      "cell_type": "markdown",
      "source": [
        "Results (Basic Random Forest Model):\n",
        "\n",
        "Overall Accuracy: 95.7%"
      ],
      "metadata": {
        "id": "C-i8ev7w2xtt"
      }
    },
    {
      "cell_type": "markdown",
      "source": [
        "**Insights:**\n",
        "\n",
        "The model performs very well on predicting unsafe water (class 0).\n",
        "\n",
        "Performance on the safe class (1) is weaker, especially in recall—meaning some safe samples are being classified as unsafe.\n",
        "\n",
        "This is typical when classes are imbalanced or less separable for one class."
      ],
      "metadata": {
        "id": "ytuHzpYu26T6"
      }
    },
    {
      "cell_type": "markdown",
      "source": [
        "**Confusion Matrix**"
      ],
      "metadata": {
        "id": "knj17u_Q3JRL"
      }
    },
    {
      "cell_type": "code",
      "source": [
        "from sklearn.ensemble import RandomForestClassifier\n",
        "from sklearn.metrics import confusion_matrix, classification_report\n",
        "import matplotlib.pyplot as plt\n",
        "import seaborn as sns\n",
        "\n",
        "# Train a basic Random Forest model\n",
        "rf_model = RandomForestClassifier(random_state=42)\n",
        "rf_model.fit(X_train, y_train)\n",
        "\n",
        "# Predict on the test set\n",
        "y_pred = rf_model.predict(X_test)\n",
        "\n",
        "# Generate confusion matrix\n",
        "cm = confusion_matrix(y_test, y_pred)\n",
        "\n",
        "# Plot the confusion matrix\n",
        "plt.figure(figsize=(6, 4))\n",
        "sns.heatmap(cm, annot=True, fmt='d', cmap='Blues', xticklabels=['Unsafe', 'Safe'], yticklabels=['Unsafe', 'Safe'])\n",
        "plt.xlabel('Predicted')\n",
        "plt.ylabel('Actual')\n",
        "plt.title('Confusion Matrix')\n",
        "plt.show()\n"
      ],
      "metadata": {
        "colab": {
          "base_uri": "https://localhost:8080/",
          "height": 410
        },
        "id": "UccoJ1pm3OXY",
        "outputId": "a4df9e6b-0e86-4189-d1a6-41d57ae396b0"
      },
      "execution_count": 8,
      "outputs": [
        {
          "output_type": "display_data",
          "data": {
            "text/plain": [
              "<Figure size 600x400 with 2 Axes>"
            ],
            "image/png": "[encoded data removed]"
          },
          "metadata": {}
        }
      ]
    },
    {
      "cell_type": "markdown",
      "source": [
        "**The matrix shows:**\n",
        "\n",
        "\n",
        "True Positives (bottom-right): Safe water correctly predicted as safe\n",
        "\n",
        "True Negatives (top-left): Unsafe water correctly predicted as unsafe\n",
        "\n",
        "False Positives (bottom-left): Unsafe water incorrectly predicted as safe\n",
        "\n",
        "False Negatives (top-right): Safe water incorrectly predicted as unsafe"
      ],
      "metadata": {
        "id": "RObkSN3D3Z9D"
      }
    },
    {
      "cell_type": "markdown",
      "source": [
        "**Hyperparameter Tuning**"
      ],
      "metadata": {
        "id": "UWx6pSan3wE8"
      }
    },
    {
      "cell_type": "code",
      "source": [
        "from sklearn.metrics import confusion_matrix\n",
        "import matplotlib.pyplot as plt\n",
        "import seaborn as sns\n",
        "from sklearn.ensemble import RandomForestClassifier\n",
        "from sklearn.model_selection import GridSearchCV # import GridSearchCV\n",
        "\n",
        "# Define the parameter grid to search\n",
        "param_grid = {\n",
        "    'n_estimators': [100, 200, 300],\n",
        "    'max_depth': [None, 10, 20],\n",
        "    'min_samples_split': [2, 5, 10]\n",
        "}\n",
        "\n",
        "# Create a GridSearchCV object\n",
        "grid_search = GridSearchCV(estimator=RandomForestClassifier(random_state=42),\n",
        "                           param_grid=param_grid,\n",
        "                           cv=5, # 5-fold cross-validation\n",
        "                           scoring='accuracy') # Use accuracy as the scoring metric\n",
        "\n",
        "# Fit the grid search to the training data\n",
        "grid_search.fit(X_train, y_train) # Fit the grid search\n",
        "\n",
        "# Train a model using the best parameters from the grid search\n",
        "optimized_rf = RandomForestClassifier(**grid_search.best_params_, random_state=42)\n",
        "optimized_rf.fit(X_train, y_train)\n",
        "\n",
        "# Predict on the test set\n",
        "y_pred_optimized = optimized_rf.predict(X_test)\n",
        "\n",
        "# Generate and plot the confusion matrix\n",
        "cm_optimized = confusion_matrix(y_test, y_pred_optimized)\n",
        "\n",
        "plt.figure(figsize=(6, 4))\n",
        "sns.heatmap(cm_optimized, annot=True, fmt='d', cmap='Blues', xticklabels=['Unsafe', 'Safe'], yticklabels=['Unsafe', 'Safe'])\n",
        "plt.xlabel('Predicted')\n",
        "plt.ylabel('Actual')\n",
        "plt.title('Confusion Matrix (Optimized Model)')\n",
        "plt.show()"
      ],
      "metadata": {
        "colab": {
          "base_uri": "https://localhost:8080/",
          "height": 410
        },
        "id": "SST5axrJ8Qr4",
        "outputId": "84a362da-a6a2-4e2a-ad02-b1f98a3c53e1"
      },
      "execution_count": 13,
      "outputs": [
        {
          "output_type": "display_data",
          "data": {
            "text/plain": [
              "<Figure size 600x400 with 2 Axes>"
            ],
            "image/png": "[encoded data removed]"
          },
          "metadata": {}
        }
      ]
    }
  ]
}